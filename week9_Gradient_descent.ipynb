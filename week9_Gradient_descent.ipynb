{
  "nbformat": 4,
  "nbformat_minor": 0,
  "metadata": {
    "colab": {
      "provenance": [],
      "toc_visible": true,
      "authorship_tag": "ABX9TyNGZM13OTef0agYKSf8AQj3",
      "include_colab_link": true
    },
    "kernelspec": {
      "name": "python3",
      "display_name": "Python 3"
    },
    "language_info": {
      "name": "python"
    }
  },
  "cells": [
    {
      "cell_type": "markdown",
      "metadata": {
        "id": "view-in-github",
        "colab_type": "text"
      },
      "source": [
        "<a href=\"https://colab.research.google.com/github/champtanapat/COS3109/blob/main/week9_Gradient_descent.ipynb\" target=\"_parent\"><img src=\"https://colab.research.google.com/assets/colab-badge.svg\" alt=\"Open In Colab\"/></a>"
      ]
    },
    {
      "cell_type": "code",
      "execution_count": null,
      "metadata": {
        "id": "eTMJWwiHOaRl"
      },
      "outputs": [],
      "source": [
        "import numpy as np # linear algebra\n",
        "import pandas as pd # data processing, CSV file I/O (e.g. pd.read_csv)"
      ]
    },
    {
      "cell_type": "code",
      "source": [
        "!pip install --upgrade pip\n",
        "!pip install -q kaggle #install kaggle sdk"
      ],
      "metadata": {
        "colab": {
          "base_uri": "https://localhost:8080/"
        },
        "id": "lTMWc6jjOm6e",
        "outputId": "48cc043a-9f05-4a58-95e0-fab6bbf0fedf"
      },
      "execution_count": null,
      "outputs": [
        {
          "output_type": "stream",
          "name": "stdout",
          "text": [
            "Looking in indexes: https://pypi.org/simple, https://us-python.pkg.dev/colab-wheels/public/simple/\n",
            "Requirement already satisfied: pip in /usr/local/lib/python3.8/dist-packages (21.1.3)\n",
            "Collecting pip\n",
            "  Downloading pip-22.3.1-py3-none-any.whl (2.1 MB)\n",
            "\u001b[K     |████████████████████████████████| 2.1 MB 6.7 MB/s \n",
            "\u001b[?25hInstalling collected packages: pip\n",
            "  Attempting uninstall: pip\n",
            "    Found existing installation: pip 21.1.3\n",
            "    Uninstalling pip-21.1.3:\n",
            "      Successfully uninstalled pip-21.1.3\n",
            "Successfully installed pip-22.3.1\n",
            "\u001b[33mWARNING: Running pip as the 'root' user can result in broken permissions and conflicting behaviour with the system package manager. It is recommended to use a virtual environment instead: https://pip.pypa.io/warnings/venv\u001b[0m\u001b[33m\n",
            "\u001b[0m"
          ]
        }
      ]
    },
    {
      "cell_type": "code",
      "source": [
        "#Set Kaggle key\n",
        "import os\n",
        "os.environ['KAGGLE_USERNAME']=\"tanapatpermpoon\"\n",
        "os.environ['KAGGLE_KEY']= \"c357f9de3a91c31cd5d35ca655703d9b\""
      ],
      "metadata": {
        "id": "Uq_hCwjwO1FP"
      },
      "execution_count": null,
      "outputs": []
    },
    {
      "cell_type": "code",
      "source": [
        "!kaggle competitions download -c house-prices-advanced-regression-techniques"
      ],
      "metadata": {
        "colab": {
          "base_uri": "https://localhost:8080/"
        },
        "id": "6qx9oH3NOqHR",
        "outputId": "e9fa963f-e360-4c5c-f287-dbccfa45ee16"
      },
      "execution_count": null,
      "outputs": [
        {
          "output_type": "stream",
          "name": "stdout",
          "text": [
            "Downloading house-prices-advanced-regression-techniques.zip to /content\n",
            "\r  0% 0.00/199k [00:00<?, ?B/s]\n",
            "\r100% 199k/199k [00:00<00:00, 82.8MB/s]\n"
          ]
        }
      ]
    },
    {
      "cell_type": "code",
      "source": [
        "from subprocess import check_output\n",
        "print(check_output([\"ls\", \".\"]).decode(\"utf8\"))"
      ],
      "metadata": {
        "colab": {
          "base_uri": "https://localhost:8080/"
        },
        "id": "spWVueUDPfLi",
        "outputId": "23ec0324-a765-4d14-9818-291bcdb232a8"
      },
      "execution_count": null,
      "outputs": [
        {
          "output_type": "stream",
          "name": "stdout",
          "text": [
            "house-prices-advanced-regression-techniques.zip\n",
            "sample_data\n",
            "\n"
          ]
        }
      ]
    },
    {
      "cell_type": "code",
      "source": [
        "!unzip house-prices-advanced-regression-techniques.zip"
      ],
      "metadata": {
        "colab": {
          "base_uri": "https://localhost:8080/"
        },
        "id": "LCSMlwAnPgn3",
        "outputId": "aee58619-81a3-421b-f85f-c63468a2e467"
      },
      "execution_count": null,
      "outputs": [
        {
          "output_type": "stream",
          "name": "stdout",
          "text": [
            "Archive:  house-prices-advanced-regression-techniques.zip\n",
            "  inflating: data_description.txt    \n",
            "  inflating: sample_submission.csv   \n",
            "  inflating: test.csv                \n",
            "  inflating: train.csv               \n"
          ]
        }
      ]
    },
    {
      "cell_type": "code",
      "source": [
        "#Load the libraries and data...\n",
        "import matplotlib.pyplot as plt\n",
        "import matplotlib.animation as animation\n",
        "\n",
        "data = pd.read_csv('./train.csv')"
      ],
      "metadata": {
        "id": "kab4e7-DPjMY"
      },
      "execution_count": null,
      "outputs": []
    },
    {
      "cell_type": "markdown",
      "source": [
        "# New Section"
      ],
      "metadata": {
        "id": "EfdlC-OmQ06_"
      }
    },
    {
      "cell_type": "code",
      "source": [],
      "metadata": {
        "id": "uf6fkAbYQmQJ"
      },
      "execution_count": null,
      "outputs": []
    },
    {
      "cell_type": "code",
      "source": [
        "#Grab the relevant data, scale the predictor variable, and add a column of 1s for the gradient descent...\n",
        "x = data['GrLivArea']\n",
        "y = data['SalePrice']\n",
        "\n",
        "x = (x - x.mean()) / x.std()\n",
        "x = np.c_[np.ones(x.shape[0]), x] \n",
        "x[1:10]"
      ],
      "metadata": {
        "colab": {
          "base_uri": "https://localhost:8080/"
        },
        "id": "FqS3xPQZPlIQ",
        "outputId": "7bcbca9c-d47f-4ee8-9957-d3c999d67a0b"
      },
      "execution_count": null,
      "outputs": [
        {
          "output_type": "execute_result",
          "data": {
            "text/plain": [
              "array([[ 1.        , -0.48234664],\n",
              "       [ 1.        ,  0.51483616],\n",
              "       [ 1.        ,  0.38352774],\n",
              "       [ 1.        ,  1.29888065],\n",
              "       [ 1.        , -0.29204458],\n",
              "       [ 1.        ,  0.33975826],\n",
              "       [ 1.        ,  1.09335442],\n",
              "       [ 1.        ,  0.49199991],\n",
              "       [ 1.        , -0.83440546]])"
            ]
          },
          "metadata": {},
          "execution_count": 14
        }
      ]
    },
    {
      "cell_type": "code",
      "source": [
        "#GRADIENT DESCENT\n",
        "\n",
        "alpha = 0.01 #Step size\n",
        "iterations = 2000 #No. of iterations\n",
        "m = y.size #No. of data points\n",
        "np.random.seed(123) #Set the seed\n",
        "theta = np.random.rand(2) #Pick some random values to start with\n",
        "\n",
        "\n",
        "#GRADIENT DESCENT\n",
        "def gradient_descent(x, y, theta, iterations, alpha):\n",
        "    past_costs = []\n",
        "    past_thetas = [theta]\n",
        "    for i in range(iterations):\n",
        "        prediction = np.dot(x, theta)\n",
        "        error = prediction - y\n",
        "        cost = 1/(2*m) * np.dot(error.T, error)\n",
        "        past_costs.append(cost)\n",
        "        theta = theta - (alpha * (1/m) * np.dot(x.T, error))\n",
        "        past_thetas.append(theta)\n",
        "        \n",
        "    return past_thetas, past_costs\n",
        "\n",
        "#Pass the relevant variables to the function and get the new values back...\n",
        "past_thetas, past_costs = gradient_descent(x, y, theta, iterations, alpha)\n",
        "theta = past_thetas[-1]\n",
        "\n",
        "#Print the results...\n",
        "print(\"Gradient Descent: {:.2f}, {:.2f}\".format(theta[0], theta[1]))"
      ],
      "metadata": {
        "id": "oOAn2Jw5PnOS",
        "colab": {
          "base_uri": "https://localhost:8080/"
        },
        "outputId": "bd89da29-3303-4f98-c70a-0291e00e3576"
      },
      "execution_count": null,
      "outputs": [
        {
          "output_type": "stream",
          "name": "stdout",
          "text": [
            "Gradient Descent: 180921.20, 56294.90\n"
          ]
        }
      ]
    },
    {
      "cell_type": "code",
      "source": [
        "#Plot the cost function...\n",
        "plt.title('Cost Function J')\n",
        "plt.xlabel('No. of iterations')\n",
        "plt.ylabel('Cost')\n",
        "plt.plot(past_costs)\n",
        "plt.show()"
      ],
      "metadata": {
        "id": "E6A9opmtPpl5",
        "colab": {
          "base_uri": "https://localhost:8080/",
          "height": 295
        },
        "outputId": "479a23b1-d3de-4a8b-dfdd-4cc2ef096ddd"
      },
      "execution_count": null,
      "outputs": [
        {
          "output_type": "display_data",
          "data": {
            "text/plain": [
              "<Figure size 432x288 with 1 Axes>"
            ],
            "image/png": "[encoded data removed]"
          },
          "metadata": {
            "needs_background": "light"
          }
        }
      ]
    },
    {
      "cell_type": "markdown",
      "source": [
        "https://www.geeksforgeeks.org/how-to-implement-a-gradient-descent-in-python-to-find-a-local-minimum/"
      ],
      "metadata": {
        "id": "I7QCBr3ePt6J"
      }
    },
    {
      "cell_type": "code",
      "source": [
        "import numpy as np\n",
        "import matplotlib.pyplot as plt\n",
        " \n",
        "def mean_squared_error(y_true, y_predicted):\n",
        "     \n",
        "    # Calculating the loss or cost\n",
        "    cost = np.sum((y_true-y_predicted)**2) / len(y_true)\n",
        "    return cost\n",
        " \n",
        "# Gradient Descent Function\n",
        "# Here iterations, learning_rate, stopping_threshold\n",
        "# are hyperparameters that can be tuned\n",
        "def gradient_descent(x, y, iterations = 1000, learning_rate = 0.0001,\n",
        "                     stopping_threshold = 1e-6):\n",
        "     \n",
        "    # Initializing weight, bias, learning rate and iterations\n",
        "    current_weight = 0.1\n",
        "    current_bias = 0.01\n",
        "    iterations = iterations\n",
        "    learning_rate = learning_rate\n",
        "    n = float(len(x))\n",
        "     \n",
        "    costs = []\n",
        "    weights = []\n",
        "    previous_cost = None\n",
        "     \n",
        "    # Estimation of optimal parameters\n",
        "    for i in range(iterations):\n",
        "         \n",
        "        # Making predictions\n",
        "        y_predicted = (current_weight * x) + current_bias\n",
        "         \n",
        "        # Calculationg the current cost\n",
        "        current_cost = mean_squared_error(y, y_predicted)\n",
        " \n",
        "        # If the change in cost is less than or equal to\n",
        "        # stopping_threshold we stop the gradient descent\n",
        "        if previous_cost and abs(previous_cost-current_cost)<=stopping_threshold:\n",
        "            break\n",
        "         \n",
        "        previous_cost = current_cost\n",
        " \n",
        "        costs.append(current_cost)\n",
        "        weights.append(current_weight)\n",
        "         \n",
        "        # Calculating the gradients\n",
        "        weight_derivative = -(2/n) * sum(x * (y-y_predicted))\n",
        "        bias_derivative = -(2/n) * sum(y-y_predicted)\n",
        "         \n",
        "        # Updating weights and bias\n",
        "        current_weight = current_weight - (learning_rate * weight_derivative)\n",
        "        current_bias = current_bias - (learning_rate * bias_derivative)\n",
        "                 \n",
        "        # Printing the parameters for each 1000th iteration\n",
        "        print(f\"Iteration {i+1}: Cost {current_cost}, Weight \\\n",
        "        {current_weight}, Bias {current_bias}\")\n",
        "     \n",
        "     \n",
        "    # Visualizing the weights and cost at for all iterations\n",
        "    plt.figure(figsize = (8,6))\n",
        "    plt.plot(weights, costs)\n",
        "    plt.scatter(weights, costs, marker='o', color='red')\n",
        "    plt.title(\"Cost vs Weights\")\n",
        "    plt.ylabel(\"Cost\")\n",
        "    plt.xlabel(\"Weight\")\n",
        "    plt.show()\n",
        "     \n",
        "    return current_weight, current_bias\n",
        " \n",
        " \n",
        "def main():\n",
        "     \n",
        "    # Data\n",
        "    X = np.array([32.50234527, 53.42680403, 61.53035803, 47.47563963, 59.81320787,\n",
        "           55.14218841, 52.21179669, 39.29956669, 48.10504169, 52.55001444,\n",
        "           45.41973014, 54.35163488, 44.1640495 , 58.16847072, 56.72720806,\n",
        "           48.95588857, 44.68719623, 60.29732685, 45.61864377, 38.81681754])\n",
        "    Y = np.array([31.70700585, 68.77759598, 62.5623823 , 71.54663223, 87.23092513,\n",
        "           78.21151827, 79.64197305, 59.17148932, 75.3312423 , 71.30087989,\n",
        "           55.16567715, 82.47884676, 62.00892325, 75.39287043, 81.43619216,\n",
        "           60.72360244, 82.89250373, 97.37989686, 48.84715332, 56.87721319])\n",
        " \n",
        "    # Estimating weight and bias using gradient descent\n",
        "    estimated_weight, eatimated_bias = gradient_descent(X, Y, iterations=2000)\n",
        "    print(f\"Estimated Weight: {estimated_weight}\\nEstimated Bias: {eatimated_bias}\")\n",
        " \n",
        "    # Making predictions using estimated parameters\n",
        "    Y_pred = estimated_weight*X + eatimated_bias\n",
        " \n",
        "    # Plotting the regression line\n",
        "    plt.figure(figsize = (8,6))\n",
        "    plt.scatter(X, Y, marker='o', color='red')\n",
        "    plt.plot([min(X), max(X)], [min(Y_pred), max(Y_pred)], color='blue',markerfacecolor='red',\n",
        "             markersize=10,linestyle='dashed')\n",
        "    plt.xlabel(\"X\")\n",
        "    plt.ylabel(\"Y\")\n",
        "    plt.show()\n",
        " \n",
        "     \n",
        "if __name__==\"__main__\":\n",
        "    main()"
      ],
      "metadata": {
        "colab": {
          "base_uri": "https://localhost:8080/",
          "height": 1000
        },
        "id": "gbGaGRVzPrTs",
        "outputId": "4551825b-8bd2-4578-addc-6a3a63d39935"
      },
      "execution_count": null,
      "outputs": [
        {
          "output_type": "stream",
          "name": "stdout",
          "text": [
            "Iteration 1: Cost 4352.088931274409, Weight         0.7593291142562117, Bias 0.02288558130709\n",
            "Iteration 2: Cost 1114.8561474350017, Weight         1.081602958862324, Bias 0.02918014748569513\n",
            "Iteration 3: Cost 341.42912086804455, Weight         1.2391274084945083, Bias 0.03225308846928192\n",
            "Iteration 4: Cost 156.64495290904443, Weight         1.3161239281746984, Bias 0.03375132986012604\n",
            "Iteration 5: Cost 112.49704004742098, Weight         1.3537591652024805, Bias 0.034479873154934775\n",
            "Iteration 6: Cost 101.9493925395456, Weight         1.3721549833978113, Bias 0.034832195392868505\n",
            "Iteration 7: Cost 99.4293893333546, Weight         1.3811467575154601, Bias 0.03500062439068245\n",
            "Iteration 8: Cost 98.82731958262897, Weight         1.3855419247507244, Bias 0.03507916814736111\n",
            "Iteration 9: Cost 98.68347500997261, Weight         1.3876903144657764, Bias 0.035113776874486774\n",
            "Iteration 10: Cost 98.64910780902792, Weight         1.3887405007983562, Bias 0.035126910596389935\n",
            "Iteration 11: Cost 98.64089651459352, Weight         1.389253895811451, Bias 0.03512954755833985\n",
            "Iteration 12: Cost 98.63893428729509, Weight         1.38950491235671, Bias 0.035127053821718185\n",
            "Iteration 13: Cost 98.63846506273883, Weight         1.3896276808137857, Bias 0.035122052266051224\n",
            "Iteration 14: Cost 98.63835254057648, Weight         1.38968776283053, Bias 0.03511582492978764\n",
            "Iteration 15: Cost 98.63832524036214, Weight         1.3897172043139192, Bias 0.03510899846107016\n",
            "Iteration 16: Cost 98.63831830104695, Weight         1.389731668997059, Bias 0.035101879159522745\n",
            "Iteration 17: Cost 98.63831622628217, Weight         1.389738813163012, Bias 0.03509461674147458\n"
          ]
        },
        {
          "output_type": "display_data",
          "data": {
            "text/plain": [
              "<Figure size 576x432 with 1 Axes>"
            ],
            "image/png": "[encoded data removed]"
          },
          "metadata": {
            "needs_background": "light"
          }
        },
        {
          "output_type": "stream",
          "name": "stdout",
          "text": [
            "Estimated Weight: 1.389738813163012\n",
            "Estimated Bias: 0.03509461674147458\n"
          ]
        },
        {
          "output_type": "display_data",
          "data": {
            "text/plain": [
              "<Figure size 576x432 with 1 Axes>"
            ],
            "image/png": "[encoded data removed]"
          },
          "metadata": {
            "needs_background": "light"
          }
        }
      ]
    },
    {
      "cell_type": "markdown",
      "source": [
        "# HW 9\n",
        "\n",
        "\n",
        "learing rate = 0.01 "
      ],
      "metadata": {
        "id": "9GyMFePlUvj9"
      }
    },
    {
      "cell_type": "code",
      "source": [
        "X = np.array([2,3,3,5])\n",
        "Y = np.array([2,1,4,3])"
      ],
      "metadata": {
        "id": "01nkssWshH-O"
      },
      "execution_count": null,
      "outputs": []
    },
    {
      "cell_type": "code",
      "source": [
        "import numpy as np\n",
        "import matplotlib.pyplot as plt\n",
        " \n",
        "def mean_squared_error(y_true, y_predicted):\n",
        "     \n",
        "    # Calculating the loss or cost\n",
        "    cost = np.sum((y_true-y_predicted)**2) / len(y_true)\n",
        "    return cost\n",
        " \n",
        "# Gradient Descent Function\n",
        "# Here iterations, learning_rate, stopping_threshold\n",
        "# are hyperparameters that can be tuned\n",
        "\n",
        "def gradient_descent(x, y, iterations = 1000, learning_rate = 0.01,\n",
        "                     stopping_threshold = 1e-6):\n",
        "    \n",
        "   \n",
        "    \n",
        "    current_weight = 0.1\n",
        "    current_bias = 0.01\n",
        "    iterations = iterations\n",
        "    learning_rate = learning_rate\n",
        "    n = float(len(x))\n",
        "     \n",
        "    costs = []\n",
        "    weights = []\n",
        "    previous_cost = None\n",
        "     \n",
        "    # Estimation of optimal parameters\n",
        "    for i in range(iterations):\n",
        "         \n",
        "        # Making predictions\n",
        "        y_predicted = (current_weight * x) + current_bias\n",
        "         \n",
        "        # Calculationg the current cost\n",
        "        current_cost = mean_squared_error(y, y_predicted)\n",
        " \n",
        "        # If the change in cost is less than or equal to\n",
        "        # stopping_threshold we stop the gradient descent\n",
        "        if previous_cost and abs(previous_cost-current_cost)<=stopping_threshold:\n",
        "            break\n",
        "         \n",
        "        previous_cost = current_cost\n",
        " \n",
        "        costs.append(current_cost)\n",
        "        weights.append(current_weight)\n",
        "         \n",
        "        # Calculating the gradients\n",
        "        weight_derivative = -(2/n) * sum(x * (y-y_predicted))\n",
        "        bias_derivative = -(2/n) * sum(y-y_predicted)\n",
        "         \n",
        "        # Updating weights and bias\n",
        "        current_weight = current_weight - (learning_rate * weight_derivative)\n",
        "        current_bias = current_bias - (learning_rate * bias_derivative)\n",
        "                 \n",
        "        # Printing the parameters for each 1000th iteration\n",
        "        print(f\"Iteration {i+1}: Cost {current_cost}, Weight \\\n",
        "        {current_weight}, Bias {current_bias}\")\n",
        "     \n",
        "     \n",
        "    # Visualizing the weights and cost at for all iterations\n",
        "    plt.figure(figsize = (5,4))\n",
        "    plt.plot(weights, costs)\n",
        "    plt.scatter(weights, costs, marker='o', color='red')\n",
        "    plt.title(\"Cost vs Weights\")\n",
        "    plt.ylabel(\"Cost\")\n",
        "    plt.xlabel(\"Weight\")\n",
        "    plt.show()\n",
        "     \n",
        "    return current_weight, current_bias\n",
        " \n",
        " \n",
        "def main():\n",
        "     \n",
        "    # Data\n",
        "\n",
        "    X = np.array([2,3,3,5])\n",
        "    Y = np.array([2,1,4,3])\n",
        " \n",
        "    # Estimating weight and bias using gradient descent\n",
        "    estimated_weight, eatimated_bias = gradient_descent(X, Y, iterations=6)\n",
        "    print(f\"Estimated Weight: {estimated_weight}\\nEstimated Bias: {eatimated_bias}\")\n",
        " \n",
        "    # Making predictions using estimated parameters\n",
        "    Y_pred = estimated_weight*X + eatimated_bias\n",
        " \n",
        "    # Plotting the regression line\n",
        "    plt.figure(figsize = (5,4))\n",
        "    plt.scatter(X, Y, marker='o', color='red')\n",
        "    plt.plot([min(X), max(X)], [min(Y_pred), max(Y_pred)], color='blue',markerfacecolor='red',\n",
        "             markersize=10,linestyle='dashed')\n",
        "    plt.xlabel(\"X\")\n",
        "    plt.ylabel(\"Y\")\n",
        "    plt.show()\n",
        " \n",
        "     \n",
        "if __name__==\"__main__\":\n",
        "    main()"
      ],
      "metadata": {
        "colab": {
          "base_uri": "https://localhost:8080/",
          "height": 700
        },
        "id": "Txe8aUJBM9KL",
        "outputId": "c13b6401-d1d6-4afe-cae0-1bebd1cac15c"
      },
      "execution_count": null,
      "outputs": [
        {
          "output_type": "stream",
          "name": "stdout",
          "text": [
            "Iteration 1: Cost 5.8741, Weight         0.24585, Bias 0.0533\n",
            "Iteration 2: Cost 3.8522617368750005, Weight         0.35461075000000003, Bias 0.08625375\n",
            "Iteration 3: Cost 2.7241487169277034, Weight         0.43567073, Bias 0.11147897625\n",
            "Iteration 4: Cost 2.0945786696520456, Weight         0.49604197499375, Bias 0.130930799275\n",
            "Iteration 5: Cost 1.7431092038487443, Weight         0.5409616089173438, Bias 0.14606945491490625\n",
            "Iteration 6: Cost 1.5467721295173522, Weight         0.5743411162522991, Bias 0.15798556123698076\n"
          ]
        },
        {
          "output_type": "display_data",
          "data": {
            "text/plain": [
              "<Figure size 360x288 with 1 Axes>"
            ],
            "image/png": "[encoded data removed]"
          },
          "metadata": {
            "needs_background": "light"
          }
        },
        {
          "output_type": "stream",
          "name": "stdout",
          "text": [
            "Estimated Weight: 0.5743411162522991\n",
            "Estimated Bias: 0.15798556123698076\n"
          ]
        },
        {
          "output_type": "display_data",
          "data": {
            "text/plain": [
              "<Figure size 360x288 with 1 Axes>"
            ],
            "image/png": "[encoded data removed]"
          },
          "metadata": {
            "needs_background": "light"
          }
        }
      ]
    }
  ]
}