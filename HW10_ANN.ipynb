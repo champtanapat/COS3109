{
  "nbformat": 4,
  "nbformat_minor": 0,
  "metadata": {
    "colab": {
      "provenance": [],
      "authorship_tag": "ABX9TyOuDm2tWtT7syiGeLmhIG3e",
      "include_colab_link": true
    },
    "kernelspec": {
      "name": "python3",
      "display_name": "Python 3"
    },
    "language_info": {
      "name": "python"
    }
  },
  "cells": [
    {
      "cell_type": "markdown",
      "metadata": {
        "id": "view-in-github",
        "colab_type": "text"
      },
      "source": [
        "<a href=\"https://colab.research.google.com/github/champtanapat/COS3109/blob/main/HW10_ANN.ipynb\" target=\"_parent\"><img src=\"https://colab.research.google.com/assets/colab-badge.svg\" alt=\"Open In Colab\"/></a>"
      ]
    },
    {
      "cell_type": "code",
      "execution_count": null,
      "metadata": {
        "id": "YcsYLusrZi8H"
      },
      "outputs": [],
      "source": [
        "from __future__ import absolute_import, division, print_function\n",
        "import tensorflow as tf\n",
        "\n",
        "import numpy as np"
      ]
    },
    {
      "cell_type": "code",
      "source": [
        "x = np.array([2, 3,  3,  5],  dtype=float)\n",
        "y = np.array([2, 3, 4, 3],  dtype=float)\n"
      ],
      "metadata": {
        "id": "4KyMeDo_ZuAH"
      },
      "execution_count": null,
      "outputs": []
    },
    {
      "cell_type": "markdown",
      "source": [
        "# Learning rate = 0.1 "
      ],
      "metadata": {
        "id": "t-fhZDEkwaBX"
      }
    },
    {
      "cell_type": "code",
      "source": [
        "l0 = tf.keras.layers.Dense(units=1, input_shape=[1],activation=None)  "
      ],
      "metadata": {
        "id": "bMlgbQDWaCjV"
      },
      "execution_count": null,
      "outputs": []
    },
    {
      "cell_type": "code",
      "source": [
        "model = tf.keras.Sequential([l0])\n",
        "model.compile(loss='mean_squared_error',\n",
        "              optimizer=tf.keras.optimizers.Adam(0.1))"
      ],
      "metadata": {
        "id": "Uz36sPzRaFYV"
      },
      "execution_count": null,
      "outputs": []
    },
    {
      "cell_type": "code",
      "source": [
        "history = model.fit(x, y, epochs=1000, verbose=False)\n",
        "print(\"Finished training the model\")"
      ],
      "metadata": {
        "colab": {
          "base_uri": "https://localhost:8080/"
        },
        "id": "3L2bLw9jbbZv",
        "outputId": "2164aeb2-f231-4349-9773-35c576d40368"
      },
      "execution_count": null,
      "outputs": [
        {
          "output_type": "stream",
          "name": "stdout",
          "text": [
            "Finished training the model\n"
          ]
        }
      ]
    },
    {
      "cell_type": "code",
      "source": [
        "import matplotlib.pyplot as plt\n",
        "plt.xlabel('Epoch Number')\n",
        "plt.ylabel(\"Loss Magnitude\")\n",
        "plt.plot(history.history['loss'])"
      ],
      "metadata": {
        "colab": {
          "base_uri": "https://localhost:8080/",
          "height": 297
        },
        "id": "o7Lf9snybh-i",
        "outputId": "570ccb79-0368-46b9-ef72-ba02038acc25"
      },
      "execution_count": null,
      "outputs": [
        {
          "output_type": "execute_result",
          "data": {
            "text/plain": [
              "[<matplotlib.lines.Line2D at 0x7f63aac55bb0>]"
            ]
          },
          "metadata": {},
          "execution_count": 60
        },
        {
          "output_type": "display_data",
          "data": {
            "text/plain": [
              "<Figure size 432x288 with 1 Axes>"
            ],
            "image/png": "[encoded data removed]"
          },
          "metadata": {
            "needs_background": "light"
          }
        }
      ]
    },
    {
      "cell_type": "code",
      "source": [
        "print(\"These are the layer variables: {}\".format(l0.get_weights()))"
      ],
      "metadata": {
        "colab": {
          "base_uri": "https://localhost:8080/"
        },
        "id": "mJP4IQcGeVU4",
        "outputId": "2314b869-8650-4059-f98e-d760d808006e"
      },
      "execution_count": null,
      "outputs": [
        {
          "output_type": "stream",
          "name": "stdout",
          "text": [
            "These are the layer variables: [array([[0.21052712]], dtype=float32), array([2.3157866], dtype=float32)]\n"
          ]
        }
      ]
    },
    {
      "cell_type": "code",
      "source": [
        "l0 = tf.keras.layers.Dense(units=4, input_shape=[1],activation=None)\n",
        "l1 = tf.keras.layers.Dense(units=4)\n",
        "l2 = tf.keras.layers.Dense(units=1)\n",
        "model = tf.keras.Sequential([l0,l1,l2])\n",
        "model.compile(loss='mean_squared_error', optimizer=tf.keras.optimizers.Adam(0.1))\n",
        "model.fit(x,y, epochs=500, verbose=False)\n",
        "print(\"Finished trining the model\")\n",
        "print(model.predict([100.0]))\n",
        "print(\"Model predicts that 100 degrees Celsius is: {} degrees Fahrenheit\".format(model.predict([100.0])))\n",
        "print(\"These are the l0 variables: {}\".format(l0.get_weights()))\n",
        "print(\"These are the l1 variables: {}\".format(l1.get_weights()))\n",
        "print(\"These are the l2 variables: {}\".format(l2.get_weights()))"
      ],
      "metadata": {
        "colab": {
          "base_uri": "https://localhost:8080/"
        },
        "id": "ww7X6HMWYzD5",
        "outputId": "e16cc5ed-0ee9-4d4c-8a63-c8c7364f556b"
      },
      "execution_count": null,
      "outputs": [
        {
          "output_type": "stream",
          "name": "stderr",
          "text": [
            "WARNING:tensorflow:5 out of the last 12 calls to <function Model.make_predict_function.<locals>.predict_function at 0x7f63aab0e0d0> triggered tf.function retracing. Tracing is expensive and the excessive number of tracings could be due to (1) creating @tf.function repeatedly in a loop, (2) passing tensors with different shapes, (3) passing Python objects instead of tensors. For (1), please define your @tf.function outside of the loop. For (2), @tf.function has reduce_retracing=True option that can avoid unnecessary retracing. For (3), please refer to https://www.tensorflow.org/guide/function#controlling_retracing and https://www.tensorflow.org/api_docs/python/tf/function for  more details.\n"
          ]
        },
        {
          "output_type": "stream",
          "name": "stdout",
          "text": [
            "Finished trining the model\n",
            "1/1 [==============================] - 0s 54ms/step\n",
            "[[23.368418]]\n",
            "1/1 [==============================] - 0s 20ms/step\n",
            "Model predicts that 100 degrees Celsius is: [[23.368418]] degrees Fahrenheit\n",
            "These are the l0 variables: [array([[-0.29055876,  0.04622251, -0.07831736,  0.22865497]],\n",
            "      dtype=float32), array([-0.42489025, -0.28438732, -0.6765982 , -0.26360908], dtype=float32)]\n",
            "These are the l1 variables: [array([[ 0.5458275 ,  0.7156284 , -0.2321013 , -0.6926676 ],\n",
            "       [ 0.9097398 ,  0.5825419 ,  0.49682188,  0.64195305],\n",
            "       [ 0.1027444 ,  0.38004813,  0.82474256,  0.72273093],\n",
            "       [ 0.68777645, -0.231716  , -0.01211132,  0.11867912]],\n",
            "      dtype=float32), array([ 0.8116975 , -0.7751762 ,  0.7139003 , -0.22288212], dtype=float32)]\n",
            "These are the l2 variables: [array([[ 0.21270907],\n",
            "       [-0.8667424 ],\n",
            "       [ 0.3439023 ],\n",
            "       [-0.1635679 ]], dtype=float32), array([0.9085924], dtype=float32)]\n"
          ]
        }
      ]
    },
    {
      "cell_type": "markdown",
      "source": [
        "# Learning rate = 0.01"
      ],
      "metadata": {
        "id": "9GqBf_qXwsUa"
      }
    },
    {
      "cell_type": "code",
      "source": [
        "model = tf.keras.Sequential([l0])\n",
        "model.compile(loss='mean_squared_error',\n",
        "              optimizer=tf.keras.optimizers.Adam(0.01))"
      ],
      "metadata": {
        "id": "VcKeyaYqxJNx"
      },
      "execution_count": null,
      "outputs": []
    },
    {
      "cell_type": "code",
      "source": [
        "history = model.fit(x, y, epochs=1000, verbose=False)\n",
        "print(\"Finished training the model\")"
      ],
      "metadata": {
        "colab": {
          "base_uri": "https://localhost:8080/"
        },
        "id": "Q46IOwQfxNmP",
        "outputId": "147377cc-250f-49bc-aec6-0b5a1d8bcc45"
      },
      "execution_count": null,
      "outputs": [
        {
          "output_type": "stream",
          "name": "stdout",
          "text": [
            "Finished training the model\n"
          ]
        }
      ]
    },
    {
      "cell_type": "code",
      "source": [
        "import matplotlib.pyplot as plt\n",
        "plt.xlabel('Epoch Number')\n",
        "plt.ylabel(\"Loss Magnitude\")\n",
        "plt.plot(history.history['loss'])"
      ],
      "metadata": {
        "colab": {
          "base_uri": "https://localhost:8080/",
          "height": 297
        },
        "id": "3cWYvguoxSkT",
        "outputId": "b1cdc98f-c91b-4df7-868c-b60b2007bb92"
      },
      "execution_count": null,
      "outputs": [
        {
          "output_type": "execute_result",
          "data": {
            "text/plain": [
              "[<matplotlib.lines.Line2D at 0x7f63ad38f610>]"
            ]
          },
          "metadata": {},
          "execution_count": 120
        },
        {
          "output_type": "display_data",
          "data": {
            "text/plain": [
              "<Figure size 432x288 with 1 Axes>"
            ],
            "image/png": "[encoded data removed]"
          },
          "metadata": {
            "needs_background": "light"
          }
        }
      ]
    },
    {
      "cell_type": "code",
      "source": [
        "l0 = tf.keras.layers.Dense(units=4, input_shape=[1],activation=None)\n",
        "l1 = tf.keras.layers.Dense(units=4)\n",
        "l2 = tf.keras.layers.Dense(units=1)\n",
        "model = tf.keras.Sequential([l0,l1,l2])\n",
        "model.compile(loss='mean_squared_error', optimizer=tf.keras.optimizers.Adam(0.01))\n",
        "model.fit(x,y, epochs=500, verbose=False)\n",
        "print(\"Finished trining the model\")\n",
        "print(model.predict([100.0]))\n",
        "print(\"Model predicts that 100 degrees Celsius is: {} degrees Fahrenheit\".format(model.predict([100.0])))\n",
        "print(\"These are the l0 variables: {}\".format(l0.get_weights()))\n",
        "print(\"These are the l1 variables: {}\".format(l1.get_weights()))\n",
        "print(\"These are the l2 variables: {}\".format(l2.get_weights()))"
      ],
      "metadata": {
        "colab": {
          "base_uri": "https://localhost:8080/"
        },
        "id": "T7goYC5fxzHv",
        "outputId": "8d3f4186-9c25-4810-fdfd-cbe40156092b"
      },
      "execution_count": null,
      "outputs": [
        {
          "output_type": "stream",
          "name": "stdout",
          "text": [
            "Finished trining the model\n",
            "1/1 [==============================] - 0s 51ms/step\n",
            "[[23.907352]]\n",
            "1/1 [==============================] - 0s 20ms/step\n",
            "Model predicts that 100 degrees Celsius is: [[23.907352]] degrees Fahrenheit\n",
            "These are the l0 variables: [array([[ 0.4720907 ,  0.32819912, -0.78028464, -0.81667036]],\n",
            "      dtype=float32), array([-0.30868942, -0.31587368, -0.51471776, -0.6372528 ], dtype=float32)]\n",
            "These are the l1 variables: [array([[-0.32918972, -0.74880344,  0.56925637,  0.04747975],\n",
            "       [ 0.2939816 ,  0.18068151,  0.2982618 , -0.00363546],\n",
            "       [-0.34662628, -0.46316534,  0.59219605,  0.49527133],\n",
            "       [ 0.41406196,  0.12444842, -0.09423226,  0.24940181]],\n",
            "      dtype=float32), array([-0.4285603 ,  0.3935913 , -0.39584514, -0.58600813], dtype=float32)]\n",
            "These are the l2 variables: [array([[-1.0772797 ],\n",
            "       [ 0.6798954 ],\n",
            "       [-0.7320911 ],\n",
            "       [-0.15748152]], dtype=float32), array([0.4315545], dtype=float32)]\n"
          ]
        }
      ]
    },
    {
      "cell_type": "code",
      "source": [],
      "metadata": {
        "id": "B7Pu4pZVyDMy"
      },
      "execution_count": null,
      "outputs": []
    },
    {
      "cell_type": "markdown",
      "source": [
        "# Learning rate = 0.001\n"
      ],
      "metadata": {
        "id": "OAkhIw5lyF1l"
      }
    },
    {
      "cell_type": "code",
      "source": [
        "model = tf.keras.Sequential([l0])\n",
        "model.compile(loss='mean_squared_error',\n",
        "              optimizer=tf.keras.optimizers.Adam(0.001))"
      ],
      "metadata": {
        "id": "DLDFrF9TyF1l"
      },
      "execution_count": null,
      "outputs": []
    },
    {
      "cell_type": "code",
      "source": [
        "history = model.fit(x, y, epochs=1000, verbose=False)\n",
        "print(\"Finished training the model\")"
      ],
      "metadata": {
        "colab": {
          "base_uri": "https://localhost:8080/"
        },
        "outputId": "1a115991-374b-4c86-c0cb-fc6a493e9342",
        "id": "hrCJbS7wyF1m"
      },
      "execution_count": null,
      "outputs": [
        {
          "output_type": "stream",
          "name": "stdout",
          "text": [
            "Finished training the model\n"
          ]
        }
      ]
    },
    {
      "cell_type": "code",
      "source": [
        "import matplotlib.pyplot as plt\n",
        "plt.xlabel('Epoch Number')\n",
        "plt.ylabel(\"Loss Magnitude\")\n",
        "plt.plot(history.history['loss'])"
      ],
      "metadata": {
        "colab": {
          "base_uri": "https://localhost:8080/"
        },
        "outputId": "4a9a21cf-97c1-4450-adee-506cdf62a6dc",
        "id": "nMKLiYVwyF1m"
      },
      "execution_count": null,
      "outputs": [
        {
          "output_type": "execute_result",
          "data": {
            "text/plain": [
              "[<matplotlib.lines.Line2D at 0x7f63a49d5e80>]"
            ]
          },
          "metadata": {},
          "execution_count": 116
        },
        {
          "output_type": "display_data",
          "data": {
            "text/plain": [
              "<Figure size 432x288 with 1 Axes>"
            ],
            "image/png": "[encoded data removed]"
          },
          "metadata": {
            "needs_background": "light"
          }
        }
      ]
    },
    {
      "cell_type": "code",
      "source": [
        "l0 = tf.keras.layers.Dense(units=4, input_shape=[1],activation=None)\n",
        "l1 = tf.keras.layers.Dense(units=4)\n",
        "l2 = tf.keras.layers.Dense(units=1)\n",
        "model = tf.keras.Sequential([l0,l1,l2])\n",
        "model.compile(loss='mean_squared_error', optimizer=tf.keras.optimizers.Adam(0.001))\n",
        "model.fit(x,y, epochs=500, verbose=False)\n",
        "print(\"Finished trining the model\")\n",
        "print(model.predict([100.0]))\n",
        "print(\"Model predicts that 100 degrees Celsius is: {} degrees Fahrenheit\".format(model.predict([100.0])))\n",
        "print(\"These are the l0 variables: {}\".format(l0.get_weights()))\n",
        "print(\"These are the l1 variables: {}\".format(l1.get_weights()))\n",
        "print(\"These are the l2 variables: {}\".format(l2.get_weights()))"
      ],
      "metadata": {
        "colab": {
          "base_uri": "https://localhost:8080/"
        },
        "outputId": "9a171ad5-ca36-456f-cc5c-fa9868b11710",
        "id": "U2XH0aCeyF1m"
      },
      "execution_count": null,
      "outputs": [
        {
          "output_type": "stream",
          "name": "stdout",
          "text": [
            "Finished trining the model\n",
            "1/1 [==============================] - 0s 47ms/step\n",
            "[[59.39456]]\n",
            "1/1 [==============================] - 0s 24ms/step\n",
            "Model predicts that 100 degrees Celsius is: [[59.39456]] degrees Fahrenheit\n",
            "These are the l0 variables: [array([[-0.49153146,  0.09171773, -0.4599268 ,  0.08131557]],\n",
            "      dtype=float32), array([ 0.02671314,  0.24604462, -0.19254975, -0.09725467], dtype=float32)]\n",
            "These are the l1 variables: [array([[ 0.27946103,  0.10034096,  0.6048869 ,  0.30700925],\n",
            "       [-0.30592352, -0.6781766 , -0.80638963,  0.4546517 ],\n",
            "       [-0.98744947, -0.16423427, -0.43908525, -0.782185  ],\n",
            "       [ 0.15589967,  0.6215293 , -0.04201088, -0.33155456]],\n",
            "      dtype=float32), array([ 0.1657811 , -0.14298323, -0.16877107,  0.17538548], dtype=float32)]\n",
            "These are the l2 variables: [array([[ 1.0310448 ],\n",
            "       [-0.19296038],\n",
            "       [-0.830495  ],\n",
            "       [ 0.59250575]], dtype=float32), array([0.15701254], dtype=float32)]\n"
          ]
        }
      ]
    },
    {
      "cell_type": "code",
      "source": [],
      "metadata": {
        "id": "Wc8kfrI_y7mU"
      },
      "execution_count": null,
      "outputs": []
    },
    {
      "cell_type": "markdown",
      "source": [
        "# sigmoid Learning rate = 0.1 "
      ],
      "metadata": {
        "id": "mkG0-obVzA9r"
      }
    },
    {
      "cell_type": "code",
      "source": [
        "l0 = tf.keras.layers.Dense(units=1, input_shape=[1],activation='sigmoid')  "
      ],
      "metadata": {
        "id": "Viy52mX7zA9s"
      },
      "execution_count": null,
      "outputs": []
    },
    {
      "cell_type": "code",
      "source": [
        "model = tf.keras.Sequential([l0])\n",
        "model.compile(loss='mean_squared_error',\n",
        "              optimizer=tf.keras.optimizers.Adam(0.1))"
      ],
      "metadata": {
        "id": "d4YvVlKwzA9s"
      },
      "execution_count": null,
      "outputs": []
    },
    {
      "cell_type": "code",
      "source": [
        "history = model.fit(x, y, epochs=1000, verbose=False)\n",
        "print(\"Finished training the model\")"
      ],
      "metadata": {
        "colab": {
          "base_uri": "https://localhost:8080/"
        },
        "outputId": "571e7834-e46c-4272-feae-6c2f32e824d7",
        "id": "AS3dAEOGzA9s"
      },
      "execution_count": null,
      "outputs": [
        {
          "output_type": "stream",
          "name": "stdout",
          "text": [
            "Finished training the model\n"
          ]
        }
      ]
    },
    {
      "cell_type": "code",
      "source": [
        "import matplotlib.pyplot as plt\n",
        "plt.xlabel('Epoch Number')\n",
        "plt.ylabel(\"Loss Magnitude\")\n",
        "plt.plot(history.history['loss'])"
      ],
      "metadata": {
        "colab": {
          "base_uri": "https://localhost:8080/"
        },
        "outputId": "2b34bfec-0539-4a1e-c42e-0e8691943f9c",
        "id": "hZ_SWFSkzA9s"
      },
      "execution_count": null,
      "outputs": [
        {
          "output_type": "execute_result",
          "data": {
            "text/plain": [
              "[<matplotlib.lines.Line2D at 0x7f63ad234160>]"
            ]
          },
          "metadata": {},
          "execution_count": 125
        },
        {
          "output_type": "display_data",
          "data": {
            "text/plain": [
              "<Figure size 432x288 with 1 Axes>"
            ],
            "image/png": "[encoded data removed]"
          },
          "metadata": {
            "needs_background": "light"
          }
        }
      ]
    },
    {
      "cell_type": "code",
      "source": [
        "print(\"These are the layer variables: {}\".format(l0.get_weights()))"
      ],
      "metadata": {
        "colab": {
          "base_uri": "https://localhost:8080/"
        },
        "outputId": "2cc47c85-7cf2-433c-90bf-36191a6298ea",
        "id": "13zOZcx4zA9s"
      },
      "execution_count": null,
      "outputs": [
        {
          "output_type": "stream",
          "name": "stdout",
          "text": [
            "These are the layer variables: [array([[2.3028736]], dtype=float32), array([2.948377], dtype=float32)]\n"
          ]
        }
      ]
    },
    {
      "cell_type": "code",
      "source": [
        "l0 = tf.keras.layers.Dense(units=4, input_shape=[1],activation='sigmoid')\n",
        "l1 = tf.keras.layers.Dense(units=4)\n",
        "l2 = tf.keras.layers.Dense(units=1)\n",
        "model = tf.keras.Sequential([l0,l1,l2])\n",
        "model.compile(loss='mean_squared_error', optimizer=tf.keras.optimizers.Adam(0.1))\n",
        "model.fit(x,y, epochs=500, verbose=False)\n",
        "print(\"Finished trining the model\")\n",
        "print(model.predict([100.0]))\n",
        "print(\"Model predicts that 100 degrees Celsius is: {} degrees Fahrenheit\".format(model.predict([100.0])))\n",
        "print(\"These are the l0 variables: {}\".format(l0.get_weights()))\n",
        "print(\"These are the l1 variables: {}\".format(l1.get_weights()))\n",
        "print(\"These are the l2 variables: {}\".format(l2.get_weights()))"
      ],
      "metadata": {
        "colab": {
          "base_uri": "https://localhost:8080/"
        },
        "outputId": "32530186-0b09-4182-b928-2b6035681ce0",
        "id": "dtb0D3lGzA9s"
      },
      "execution_count": null,
      "outputs": [
        {
          "output_type": "stream",
          "name": "stdout",
          "text": [
            "Finished trining the model\n",
            "1/1 [==============================] - 0s 46ms/step\n",
            "[[1.9532015]]\n",
            "1/1 [==============================] - 0s 20ms/step\n",
            "Model predicts that 100 degrees Celsius is: [[1.9532015]] degrees Fahrenheit\n",
            "These are the l0 variables: [array([[0.37912413, 2.673838  , 0.34331307, 1.5257064 ]], dtype=float32), array([-0.5203858 , -4.6732063 , -0.42262098, -1.0528618 ], dtype=float32)]\n",
            "These are the l1 variables: [array([[-0.09739632,  0.2633799 , -1.7113489 ,  0.4306238 ],\n",
            "       [ 1.4291501 , -1.5447459 ,  1.9871597 ,  0.5440002 ],\n",
            "       [ 0.09914601,  0.11742534, -1.164332  ,  0.22231005],\n",
            "       [ 0.34847292, -0.68270135, -0.11501957,  0.6667296 ]],\n",
            "      dtype=float32), array([-0.06578746,  0.1947055 ,  0.03886974, -0.01333838], dtype=float32)]\n",
            "These are the l2 variables: [array([[ 0.8512982 ],\n",
            "       [-0.6748075 ],\n",
            "       [ 1.7962692 ],\n",
            "       [ 0.53966045]], dtype=float32), array([0.11395178], dtype=float32)]\n"
          ]
        }
      ]
    },
    {
      "cell_type": "markdown",
      "source": [
        "# sigmoid Learning rate = 0.01 "
      ],
      "metadata": {
        "id": "3nSxuF1WzlVc"
      }
    },
    {
      "cell_type": "code",
      "source": [
        "l0 = tf.keras.layers.Dense(units=1, input_shape=[1],activation='sigmoid')  "
      ],
      "metadata": {
        "id": "GNE4lVJhzlVd"
      },
      "execution_count": null,
      "outputs": []
    },
    {
      "cell_type": "code",
      "source": [
        "model = tf.keras.Sequential([l0])\n",
        "model.compile(loss='mean_squared_error',\n",
        "              optimizer=tf.keras.optimizers.Adam(0.01))"
      ],
      "metadata": {
        "id": "72OyMvfwzlVe"
      },
      "execution_count": null,
      "outputs": []
    },
    {
      "cell_type": "code",
      "source": [
        "history = model.fit(x, y, epochs=1000, verbose=False)\n",
        "print(\"Finished training the model\")"
      ],
      "metadata": {
        "colab": {
          "base_uri": "https://localhost:8080/"
        },
        "outputId": "00d57b54-eec7-47f3-ecb1-bb71d5974df0",
        "id": "1hdNzhH3zlVe"
      },
      "execution_count": null,
      "outputs": [
        {
          "output_type": "stream",
          "name": "stdout",
          "text": [
            "Finished training the model\n"
          ]
        }
      ]
    },
    {
      "cell_type": "code",
      "source": [
        "import matplotlib.pyplot as plt\n",
        "plt.xlabel('Epoch Number')\n",
        "plt.ylabel(\"Loss Magnitude\")\n",
        "plt.plot(history.history['loss'])"
      ],
      "metadata": {
        "colab": {
          "base_uri": "https://localhost:8080/",
          "height": 297
        },
        "outputId": "39958963-45e2-45f6-8e48-de506af3ebdd",
        "id": "MtPgOG-QzlVf"
      },
      "execution_count": null,
      "outputs": [
        {
          "output_type": "execute_result",
          "data": {
            "text/plain": [
              "[<matplotlib.lines.Line2D at 0x7f63ad271d90>]"
            ]
          },
          "metadata": {},
          "execution_count": 86
        },
        {
          "output_type": "display_data",
          "data": {
            "text/plain": [
              "<Figure size 432x288 with 1 Axes>"
            ],
            "image/png": "[encoded data removed]"
          },
          "metadata": {
            "needs_background": "light"
          }
        }
      ]
    },
    {
      "cell_type": "code",
      "source": [
        "print(\"These are the layer variables: {}\".format(l0.get_weights()))"
      ],
      "metadata": {
        "colab": {
          "base_uri": "https://localhost:8080/"
        },
        "outputId": "0dc3ef53-4db8-4bf5-bb4b-54442a3e6285",
        "id": "VEtOGm9CzlVf"
      },
      "execution_count": null,
      "outputs": [
        {
          "output_type": "stream",
          "name": "stdout",
          "text": [
            "These are the layer variables: [array([[2.1633756]], dtype=float32), array([3.2551212], dtype=float32)]\n"
          ]
        }
      ]
    },
    {
      "cell_type": "code",
      "source": [
        "l0 = tf.keras.layers.Dense(units=4, input_shape=[1],activation='sigmoid')\n",
        "l1 = tf.keras.layers.Dense(units=4)\n",
        "l2 = tf.keras.layers.Dense(units=1)\n",
        "model = tf.keras.Sequential([l0,l1,l2])\n",
        "model.compile(loss='mean_squared_error', optimizer=tf.keras.optimizers.Adam(0.01))\n",
        "model.fit(x,y, epochs=500, verbose=False)\n",
        "print(\"Finished trining the model\")\n",
        "print(model.predict([100.0]))\n",
        "print(\"Model predicts that 100 degrees Celsius is: {} degrees Fahrenheit\".format(model.predict([100.0])))\n",
        "print(\"These are the l0 variables: {}\".format(l0.get_weights()))\n",
        "print(\"These are the l1 variables: {}\".format(l1.get_weights()))\n",
        "print(\"These are the l2 variables: {}\".format(l2.get_weights()))"
      ],
      "metadata": {
        "colab": {
          "base_uri": "https://localhost:8080/"
        },
        "outputId": "c85c1d7a-dbba-4caa-b37b-54f78f46e5db",
        "id": "VD_TVUAxzlVf"
      },
      "execution_count": null,
      "outputs": [
        {
          "output_type": "stream",
          "name": "stdout",
          "text": [
            "Finished trining the model\n",
            "1/1 [==============================] - 0s 51ms/step\n",
            "[[3.4347978]]\n",
            "1/1 [==============================] - 0s 28ms/step\n",
            "Model predicts that 100 degrees Celsius is: [[3.4347978]] degrees Fahrenheit\n",
            "These are the l0 variables: [array([[ 1.8433406 ,  1.1779845 , -0.22195967,  1.4051684 ]],\n",
            "      dtype=float32), array([-3.3098674 , -1.1478686 ,  0.07441064, -1.8994663 ], dtype=float32)]\n",
            "These are the l1 variables: [array([[ 0.5638461 , -0.22848167,  0.65594757, -1.0190493 ],\n",
            "       [ 0.49855798,  0.01869025, -0.25961548, -0.73848474],\n",
            "       [-0.4083693 , -0.54971486, -0.6553355 , -0.51577455],\n",
            "       [ 0.3943044 , -0.76261574,  0.4158506 ,  0.01122659]],\n",
            "      dtype=float32), array([ 0.09636696, -0.10349965, -0.5288558 ,  0.00113905], dtype=float32)]\n",
            "These are the l2 variables: [array([[ 1.1035458 ],\n",
            "       [-0.8543986 ],\n",
            "       [ 0.30971077],\n",
            "       [-0.33808345]], dtype=float32), array([0.12389252], dtype=float32)]\n"
          ]
        }
      ]
    },
    {
      "cell_type": "markdown",
      "source": [
        "# sigmoid Learning rate = 0.001 "
      ],
      "metadata": {
        "id": "v-RxCwaCz6la"
      }
    },
    {
      "cell_type": "code",
      "source": [
        "l0 = tf.keras.layers.Dense(units=1, input_shape=[1],activation='sigmoid')  "
      ],
      "metadata": {
        "id": "ntEKyLqDz6lc"
      },
      "execution_count": null,
      "outputs": []
    },
    {
      "cell_type": "code",
      "source": [
        "model = tf.keras.Sequential([l0])\n",
        "model.compile(loss='mean_squared_error',\n",
        "              optimizer=tf.keras.optimizers.Adam(0.001))"
      ],
      "metadata": {
        "id": "kwi82iP8z6lc"
      },
      "execution_count": null,
      "outputs": []
    },
    {
      "cell_type": "code",
      "source": [
        "history = model.fit(x, y, epochs=1000, verbose=False)\n",
        "print(\"Finished training the model\")"
      ],
      "metadata": {
        "colab": {
          "base_uri": "https://localhost:8080/"
        },
        "outputId": "8292427b-8d40-4342-e00a-6eb0ecab911a",
        "id": "mfnb5mmZz6lc"
      },
      "execution_count": null,
      "outputs": [
        {
          "output_type": "stream",
          "name": "stdout",
          "text": [
            "Finished training the model\n"
          ]
        }
      ]
    },
    {
      "cell_type": "code",
      "source": [
        "import matplotlib.pyplot as plt\n",
        "plt.xlabel('Epoch Number')\n",
        "plt.ylabel(\"Loss Magnitude\")\n",
        "plt.plot(history.history['loss'])"
      ],
      "metadata": {
        "colab": {
          "base_uri": "https://localhost:8080/",
          "height": 297
        },
        "outputId": "a4a9076f-6c43-496f-a84b-958f5dfb1b0f",
        "id": "JqBy2zYKz6ld"
      },
      "execution_count": null,
      "outputs": [
        {
          "output_type": "execute_result",
          "data": {
            "text/plain": [
              "[<matplotlib.lines.Line2D at 0x7f63a446fc70>]"
            ]
          },
          "metadata": {},
          "execution_count": 111
        },
        {
          "output_type": "display_data",
          "data": {
            "text/plain": [
              "<Figure size 432x288 with 1 Axes>"
            ],
            "image/png": "[encoded data removed]"
          },
          "metadata": {
            "needs_background": "light"
          }
        }
      ]
    },
    {
      "cell_type": "code",
      "source": [
        "print(\"These are the layer variables: {}\".format(l0.get_weights()))"
      ],
      "metadata": {
        "colab": {
          "base_uri": "https://localhost:8080/"
        },
        "outputId": "9a17ef98-61e1-4ee1-9542-1c64c333a1ac",
        "id": "UgMl6vAEz6ld"
      },
      "execution_count": null,
      "outputs": [
        {
          "output_type": "stream",
          "name": "stdout",
          "text": [
            "These are the layer variables: [array([[0.4237988]], dtype=float32), array([0.8176166], dtype=float32)]\n"
          ]
        }
      ]
    },
    {
      "cell_type": "code",
      "source": [
        "l0 = tf.keras.layers.Dense(units=4, input_shape=[1],activation='sigmoid')\n",
        "l1 = tf.keras.layers.Dense(units=4)\n",
        "l2 = tf.keras.layers.Dense(units=1)\n",
        "model = tf.keras.Sequential([l0,l1,l2])\n",
        "model.compile(loss='mean_squared_error', optimizer=tf.keras.optimizers.Adam(0.001))\n",
        "model.fit(x,y, epochs=500, verbose=False)\n",
        "print(\"Finished trining the model\")\n",
        "print(model.predict([100.0]))\n",
        "print(\"Model predicts that 100 degrees Celsius is: {} degrees Fahrenheit\".format(model.predict([100.0])))\n",
        "print(\"These are the l0 variables: {}\".format(l0.get_weights()))\n",
        "print(\"These are the l1 variables: {}\".format(l1.get_weights()))\n",
        "print(\"These are the l2 variables: {}\".format(l2.get_weights()))"
      ],
      "metadata": {
        "colab": {
          "base_uri": "https://localhost:8080/"
        },
        "outputId": "c7c12724-d93f-4e1f-a30b-3ade140cdbea",
        "id": "nlvk1uDfz6ld"
      },
      "execution_count": null,
      "outputs": [
        {
          "output_type": "stream",
          "name": "stdout",
          "text": [
            "Finished trining the model\n",
            "1/1 [==============================] - 0s 46ms/step\n",
            "[[2.4634795]]\n",
            "1/1 [==============================] - 0s 20ms/step\n",
            "Model predicts that 100 degrees Celsius is: [[2.4634795]] degrees Fahrenheit\n",
            "These are the l0 variables: [array([[-0.42147952,  0.14713156,  0.36839727,  0.04558258]],\n",
            "      dtype=float32), array([ 0.38166672, -0.23158129,  0.39809576,  0.18738647], dtype=float32)]\n",
            "These are the l1 variables: [array([[ 1.0906507 ,  0.9699864 ,  0.89073575,  0.8019601 ],\n",
            "       [-0.26102465,  0.5305833 , -0.15321925, -0.5815869 ],\n",
            "       [ 0.5509805 ,  0.1065534 , -0.00715616,  0.3804502 ],\n",
            "       [ 0.68386227, -0.2502891 , -0.18594083, -0.24591182]],\n",
            "      dtype=float32), array([0.292209  , 0.33409646, 0.24251167, 0.24801639], dtype=float32)]\n",
            "These are the l2 variables: [array([[1.4511245 ],\n",
            "       [0.6751764 ],\n",
            "       [0.3353579 ],\n",
            "       [0.44614533]], dtype=float32), array([0.26877153], dtype=float32)]\n"
          ]
        }
      ]
    }
  ]
}