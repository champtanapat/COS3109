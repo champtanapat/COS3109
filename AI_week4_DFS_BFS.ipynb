{
  "nbformat": 4,
  "nbformat_minor": 0,
  "metadata": {
    "colab": {
      "name": "AI week4 DFS_BFS.ipynb",
      "provenance": [],
      "toc_visible": true,
      "authorship_tag": "ABX9TyNvH5VybSlzV8iAOGLgI2Gx",
      "include_colab_link": true
    },
    "kernelspec": {
      "name": "python3",
      "display_name": "Python 3"
    },
    "language_info": {
      "name": "python"
    }
  },
  "cells": [
    {
      "cell_type": "markdown",
      "metadata": {
        "id": "view-in-github",
        "colab_type": "text"
      },
      "source": [
        "<a href=\"https://colab.research.google.com/github/champtanapat/COS3109/blob/main/AI_week4_DFS_BFS.ipynb\" target=\"_parent\"><img src=\"https://colab.research.google.com/assets/colab-badge.svg\" alt=\"Open In Colab\"/></a>"
      ]
    },
    {
      "cell_type": "markdown",
      "source": [
        "# DFS"
      ],
      "metadata": {
        "id": "GLir134dK4xc"
      }
    },
    {
      "cell_type": "code",
      "source": [
        "# Using a Python dictionary to act as an adjacency list\n",
        "graph = {\n",
        "  '5' : ['3','7'],\n",
        "  '3' : ['2', '4'],\n",
        "  '7' : ['8'],\n",
        "  '2' : [],\n",
        "  '4' : ['8'],\n",
        "  '8' : []\n",
        "}\n",
        "\n",
        "visited = set() # Set to keep track of visited nodes of graph.\n",
        "\n",
        "def dfs(visited, graph, node):  #function for dfs \n",
        "    if node not in visited:\n",
        "        print (node)\n",
        "        visited.add(node)\n",
        "        for neighbour in graph[node]:\n",
        "            dfs(visited, graph, neighbour)\n",
        "\n",
        "# Driver Code\n",
        "print(\"Following is the Depth-First Search\")\n",
        "dfs(visited, graph, '5')"
      ],
      "metadata": {
        "colab": {
          "base_uri": "https://localhost:8080/"
        },
        "id": "FVVZXCUiK80N",
        "outputId": "c2a86bc2-cdcc-4277-e10a-cacf83cf5e44"
      },
      "execution_count": null,
      "outputs": [
        {
          "output_type": "stream",
          "name": "stdout",
          "text": [
            "Following is the Depth-First Search\n",
            "5\n",
            "3\n",
            "2\n",
            "4\n",
            "8\n",
            "7\n"
          ]
        }
      ]
    },
    {
      "cell_type": "markdown",
      "source": [
        "#BFS\n"
      ],
      "metadata": {
        "id": "_Tu3tGQ9KwYY"
      }
    },
    {
      "cell_type": "code",
      "source": [
        "graph = {\n",
        "  '5' : ['3','7'],\n",
        "  '3' : ['2', '4'],\n",
        "  '7' : ['8'],\n",
        "  '2' : [],\n",
        "  '4' : ['8'],\n",
        "  '8' : []\n",
        "}\n",
        "\n",
        "visited = [] # List for visited nodes.\n",
        "queue = []     #Initialize a queue\n",
        "\n",
        "def bfs(visited, graph, node): #function for BFS\n",
        "  visited.append(node)\n",
        "  queue.append(node)\n",
        "\n",
        "  while queue:          # Creating loop to visit each node\n",
        "    m = queue.pop(0) \n",
        "    print (m, end = \" \") \n",
        "\n",
        "    for neighbour in graph[m]:\n",
        "      if neighbour not in visited:\n",
        "        visited.append(neighbour)\n",
        "        queue.append(neighbour)\n",
        "\n",
        "# Driver Code\n",
        "print(\"Following is the Breadth-First Search\")\n",
        "bfs(visited, graph, '5')    # function calling"
      ],
      "metadata": {
        "id": "G2EM-kikLFaz",
        "outputId": "d593a6b9-e05b-454f-b8c2-6541de2af388",
        "colab": {
          "base_uri": "https://localhost:8080/"
        }
      },
      "execution_count": null,
      "outputs": [
        {
          "output_type": "stream",
          "name": "stdout",
          "text": [
            "Following is the Breadth-First Search\n",
            "5 3 7 2 4 8 "
          ]
        }
      ]
    }
  ]
}